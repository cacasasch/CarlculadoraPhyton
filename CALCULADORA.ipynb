{
  "nbformat": 4,
  "nbformat_minor": 0,
  "metadata": {
    "colab": {
      "provenance": [],
      "authorship_tag": "ABX9TyNVT8j3A5QR0Vz/rcGi2XhF",
      "include_colab_link": true
    },
    "kernelspec": {
      "name": "python3",
      "display_name": "Python 3"
    },
    "language_info": {
      "name": "python"
    }
  },
  "cells": [
    {
      "cell_type": "markdown",
      "metadata": {
        "id": "view-in-github",
        "colab_type": "text"
      },
      "source": [
        "<a href=\"https://colab.research.google.com/github/cacasasch/CarlculadoraPhyton/blob/main/CALCULADORA.ipynb\" target=\"_parent\"><img src=\"https://colab.research.google.com/assets/colab-badge.svg\" alt=\"Open In Colab\"/></a>"
      ]
    },
    {
      "cell_type": "code",
      "execution_count": null,
      "metadata": {
        "id": "jbAf88Y8rTUN"
      },
      "outputs": [],
      "source": [
        "# 📌 Calculadora Colaborativa en Jupyter Notebook\n",
        "\n",
        "print(\"Bienvenido a la calculadora colaborativa\")\n",
        "\n",
        "# Aquí se agregarán las funciones de los estudiantes"
      ]
    }
  ]
}